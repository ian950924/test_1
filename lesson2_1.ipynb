{
 "cells": [
  {
   "cell_type": "code",
   "execution_count": null,
   "id": "a8aca178",
   "metadata": {},
   "outputs": [
    {
     "name": "stdout",
     "output_type": "stream",
     "text": [
      "why r there  too many dumbass in my class\n"
     ]
    }
   ],
   "source": [
    "print(\"why r there so many dumbass in my class\")"
   ]
  },
  {
   "cell_type": "code",
   "execution_count": 2,
   "id": "a10108e3",
   "metadata": {},
   "outputs": [
    {
     "name": "stdout",
     "output_type": "stream",
     "text": [
      "they r all retarded\n"
     ]
    }
   ],
   "source": [
    "print(\"they r all retarded\")"
   ]
  }
 ],
 "metadata": {
  "kernelspec": {
   "display_name": "base",
   "language": "python",
   "name": "python3"
  },
  "language_info": {
   "codemirror_mode": {
    "name": "ipython",
    "version": 3
   },
   "file_extension": ".py",
   "mimetype": "text/x-python",
   "name": "python",
   "nbconvert_exporter": "python",
   "pygments_lexer": "ipython3",
   "version": "3.12.9"
  }
 },
 "nbformat": 4,
 "nbformat_minor": 5
}
